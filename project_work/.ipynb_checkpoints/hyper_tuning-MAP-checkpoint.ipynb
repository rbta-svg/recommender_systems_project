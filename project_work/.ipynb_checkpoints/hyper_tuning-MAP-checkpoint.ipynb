{
 "cells": [
  {
   "cell_type": "markdown",
   "id": "ed7eb035",
   "metadata": {},
   "source": [
    "Trying to do some hyperparameter tuning"
   ]
  },
  {
   "cell_type": "code",
   "execution_count": 1,
   "id": "6be2581c",
   "metadata": {},
   "outputs": [],
   "source": [
    "import os\n",
    "os.chdir('/Users/roberttiu/Desktop/RecSys_Course_AT_PoliMi-master')\n",
    "\n",
    "from Evaluation.Evaluator import EvaluatorHoldout\n",
    "import numpy\n",
    "from Recommenders.SLIM.SLIMElasticNetRecommender import MultiThreadSLIM_SLIMElasticNetRecommender\n",
    "#from HyperparameterTuning.SearchBayesianSkopt import SearchBayesianSkopt\n",
    "from HyperparameterTuning.SearchAbstractClass import SearchInputRecommenderArgs\n",
    "from Data_manager.split_functions.split_train_validation_random_holdout import \\\n",
    "    split_train_in_two_percentage_global_sample\n",
    "from Utils.load_ICM import load_ICM \n",
    "from Utils.load_URM import load_URM\n",
    "from scipy import sparse as sps\n",
    "import pandas as pd\n",
    "from Evaluation.K_Fold_Evaluator import K_Fold_Evaluator_MAP\n",
    "from bayes_opt import BayesianOptimization\n",
    "import json\n",
    "# import tables"
   ]
  },
  {
   "cell_type": "code",
   "execution_count": 2,
   "id": "fd879871",
   "metadata": {},
   "outputs": [
    {
     "name": "stdout",
     "output_type": "stream",
     "text": [
      "\u001b[31mBasics-1-Introduction-to-Python-Programming.ipynb\u001b[m\u001b[m\r\n",
      "\u001b[31mBasics-2-Numpy.ipynb\u001b[m\u001b[m\r\n",
      "\u001b[31mBasics-3-Scipy.ipynb\u001b[m\u001b[m\r\n",
      "\u001b[34mCythonCompiler\u001b[m\u001b[m\r\n",
      "\u001b[34mCython_examples\u001b[m\u001b[m\r\n",
      "\u001b[34mData_manager\u001b[m\u001b[m\r\n",
      "\u001b[34mEvaluation\u001b[m\u001b[m\r\n",
      "\u001b[34mHyperparameterTuning\u001b[m\u001b[m\r\n",
      "\u001b[34mNotebooks_utils\u001b[m\u001b[m\r\n",
      "Practice 02 - How to build a recommender.ipynb\r\n",
      "Practice 03 - Content Based Filtering.ipynb\r\n",
      "Practice 04 - Collaborative Filtering.ipynb\r\n",
      "Practice 05 - Recap - Building an ItemKNN from scratch.ipynb\r\n",
      "Practice 06 - SLIM MSE with Gradient Descent and Cython.ipynb\r\n",
      "Practice 07 - MF FunkSVD with Cython.ipynb\r\n",
      "Practice 08 - MF IALS.ipynb\r\n",
      "Practice 08b - MF PureSVD NMF.ipynb\r\n",
      "Practice 09 - BPR for SLIM and MF.ipynb\r\n",
      "Practice 09 - Hyperparameter optimization with Skopt.ipynb\r\n",
      "Practice 11 - MF with PyTorch.ipynb\r\n",
      "Practice 12 - Hybrid recommenders.ipynb\r\n",
      "Practice 13 - Collaborative Boosted FW.ipynb\r\n",
      "Practice 14 - Hybrid model with LightFM on ML.ipynb\r\n",
      "Practice extra - Cython for KNN similarity.ipynb\r\n",
      "Practice extra 09-old - SLIM BPR and SLIM EN.ipynb\r\n",
      "Practice extra 2 - SGD based Learning for Factorization Machines.ipynb\r\n",
      "Practice extra 3 - Hybrid model with LightFM.ipynb\r\n",
      "Practice extra 4 - Quickstart LightFM.ipynb\r\n",
      "Practice extra 5 - Implicit feedback recommender.ipynb\r\n",
      "Practice extra 6 - Using different learning schedules.ipynb\r\n",
      "Practice extra 7 - WARP loss with LightFM.ipynb\r\n",
      "Practice extra 8 - XGBoost basics.ipynb\r\n",
      "README.md\r\n",
      "\u001b[34mRecommenders\u001b[m\u001b[m\r\n",
      "\u001b[34mUtils\u001b[m\u001b[m\r\n",
      "cython_example_FunkSVD.py\r\n",
      "cython_example_SLIM_MSE.py\r\n",
      "\u001b[34mimages\u001b[m\u001b[m\r\n",
      "\u001b[34mnew_in\u001b[m\u001b[m\r\n",
      "\u001b[34mown_project_work\u001b[m\u001b[m\r\n",
      "requirements.txt\r\n",
      "\u001b[34mresult_experiments\u001b[m\u001b[m\r\n",
      "run_all_algorithms.py\r\n",
      "run_compile_all_cython.py\r\n",
      "run_hyperparameter_search.py\r\n",
      "run_test_recommenders.py\r\n",
      "\u001b[34mslides\u001b[m\u001b[m\r\n",
      "submission_101221_1.csv\r\n",
      "submission_post_hypertuning_101221.csv\r\n"
     ]
    }
   ],
   "source": [
    "# import tables\n",
    "!ls"
   ]
  },
  {
   "cell_type": "code",
   "execution_count": 3,
   "id": "c2e388e2",
   "metadata": {},
   "outputs": [
    {
     "name": "stdout",
     "output_type": "stream",
     "text": [
      "<class 'scipy.sparse.coo.coo_matrix'>\n",
      "<class 'scipy.sparse.csr.csr_matrix'>\n"
     ]
    }
   ],
   "source": [
    "def combine(ICM: sps.csr_matrix, URM : sps.csr_matrix):\n",
    "    return sps.hstack((URM.T, ICM), format='csr')\n",
    "\n",
    "URM_all = load_URM('new_in/data_train.csv') # CSR\n",
    "\n",
    "ICM_channel_all = load_ICM('new_in/data_ICM_channel.csv') # COO\n",
    "ICM_event_all = load_ICM('new_in/data_ICM_event.csv')\n",
    "ICM_genre_all = load_ICM('new_in/data_ICM_genre.csv')\n",
    "ICM_subgenre_all = load_ICM('new_in/data_ICM_subgenre.csv') \n",
    "\n",
    "ICM_all = sps.hstack((ICM_channel_all, ICM_event_all, ICM_genre_all, ICM_subgenre_all))\n",
    "\n",
    "print(type(ICM_all))\n",
    "print(type(URM_all))\n",
    "\n",
    "URM_ICM_all = combine(ICM=ICM_all, URM=URM_all)\n",
    "\n",
    "\n"
   ]
  },
  {
   "cell_type": "code",
   "execution_count": 4,
   "id": "c2cd77e8",
   "metadata": {},
   "outputs": [
    {
     "name": "stdout",
     "output_type": "stream",
     "text": [
      "Warning: 7 (0.05 %) of 13650 users have no sampled items\n",
      "Warning: 8 (0.06 %) of 13650 users have no sampled items\n",
      "Warning: 7 (0.05 %) of 13650 users have no sampled items\n",
      "EvaluatorHoldout: Ignoring 13643 ( 0.1%) Users that have less than 1 test interactions\n",
      "EvaluatorHoldout: Ignoring 13642 ( 0.1%) Users that have less than 1 test interactions\n",
      "EvaluatorHoldout: Ignoring 13643 ( 0.1%) Users that have less than 1 test interactions\n"
     ]
    }
   ],
   "source": [
    "URMs_train = []\n",
    "URMs_validation = []\n",
    "\n",
    "for k in range(3):\n",
    "    URM_train, URM_validation = split_train_in_two_percentage_global_sample(URM_all, train_percentage = 0.80)\n",
    "    URMs_train.append(URM_train)\n",
    "    URMs_validation.append(URM_validation)\n",
    "\n",
    "\n",
    "evaluator_validation = K_Fold_Evaluator_MAP(URMs_validation, cutoff_list=[10], verbose=True)\n",
    "\n",
    "\n",
    "ICMs_combined = []\n",
    "for URM in URMs_train:\n",
    "    ICMs_combined.append(combine(ICM=ICM_all, URM=URM))\n",
    "    \n",
    "    \n",
    "\n",
    "recommenders = []\n",
    "\n",
    "\n",
    "\n",
    "tuning_params = {\n",
    "    \"alpha\": (1e-4, 1e-2),\n",
    "    \"l1_ratio\": (0, 1),\n",
    "    \"topK\": (50, 500),\n",
    "}"
   ]
  },
  {
   "cell_type": "code",
   "execution_count": 5,
   "id": "5203b995",
   "metadata": {},
   "outputs": [],
   "source": [
    "results = []\n",
    "\n",
    "\n",
    "def BO_func(alpha, l1_ratio, topK):\n",
    "    recommenders = []\n",
    "\n",
    "    for index in range(len(URMs_train)):\n",
    "        recommenders.append(\n",
    "            MultiThreadSLIM_SLIMElasticNetRecommender(\n",
    "                URM_train=ICMs_combined[index].T,\n",
    "                verbose=False\n",
    "            )\n",
    "        )\n",
    "\n",
    "        recommenders[index].fit(\n",
    "            alpha=alpha,\n",
    "            l1_ratio=l1_ratio,\n",
    "            topK=int(topK),\n",
    "            workers=6\n",
    "        )\n",
    "\n",
    "        recommenders[index].URM_train = URMs_train[index]\n",
    "\n",
    "    result = evaluator_validation.evaluateRecommender(recommenders)\n",
    "    results.append(result)\n",
    "    return sum(result) / len(result)"
   ]
  },
  {
   "cell_type": "code",
   "execution_count": 6,
   "id": "53ea8c22",
   "metadata": {},
   "outputs": [
    {
     "name": "stdout",
     "output_type": "stream",
     "text": [
      "|   iter    |  target   |   alpha   | l1_ratio  |   topK    |\n",
      "-------------------------------------------------------------\n"
     ]
    },
    {
     "ename": "NameError",
     "evalue": "name 'alp' is not defined",
     "output_type": "error",
     "traceback": [
      "\u001b[0;31m---------------------------------------------------------------------------\u001b[0m",
      "\u001b[0;31mKeyError\u001b[0m                                  Traceback (most recent call last)",
      "\u001b[0;32m~/opt/anaconda3/envs/maurizio2/lib/python3.8/site-packages/bayes_opt/target_space.py\u001b[0m in \u001b[0;36mprobe\u001b[0;34m(self, params)\u001b[0m\n\u001b[1;32m    190\u001b[0m         \u001b[0;32mtry\u001b[0m\u001b[0;34m:\u001b[0m\u001b[0;34m\u001b[0m\u001b[0;34m\u001b[0m\u001b[0m\n\u001b[0;32m--> 191\u001b[0;31m             \u001b[0mtarget\u001b[0m \u001b[0;34m=\u001b[0m \u001b[0mself\u001b[0m\u001b[0;34m.\u001b[0m\u001b[0m_cache\u001b[0m\u001b[0;34m[\u001b[0m\u001b[0m_hashable\u001b[0m\u001b[0;34m(\u001b[0m\u001b[0mx\u001b[0m\u001b[0;34m)\u001b[0m\u001b[0;34m]\u001b[0m\u001b[0;34m\u001b[0m\u001b[0;34m\u001b[0m\u001b[0m\n\u001b[0m\u001b[1;32m    192\u001b[0m         \u001b[0;32mexcept\u001b[0m \u001b[0mKeyError\u001b[0m\u001b[0;34m:\u001b[0m\u001b[0;34m\u001b[0m\u001b[0;34m\u001b[0m\u001b[0m\n",
      "\u001b[0;31mKeyError\u001b[0m: (0.002297732393788421, 0.8707323061773764, 143.02361990274187)",
      "\nDuring handling of the above exception, another exception occurred:\n",
      "\u001b[0;31mNameError\u001b[0m                                 Traceback (most recent call last)",
      "\u001b[0;32m/var/folders/91/_w53dk7914x081k123svf92w0000gn/T/ipykernel_8421/3851102124.py\u001b[0m in \u001b[0;36m<module>\u001b[0;34m\u001b[0m\n\u001b[1;32m      1\u001b[0m \u001b[0moptimizer\u001b[0m \u001b[0;34m=\u001b[0m \u001b[0mBayesianOptimization\u001b[0m\u001b[0;34m(\u001b[0m\u001b[0mf\u001b[0m\u001b[0;34m=\u001b[0m\u001b[0mBO_func\u001b[0m\u001b[0;34m,\u001b[0m \u001b[0mpbounds\u001b[0m\u001b[0;34m=\u001b[0m\u001b[0mtuning_params\u001b[0m\u001b[0;34m,\u001b[0m \u001b[0mverbose\u001b[0m\u001b[0;34m=\u001b[0m\u001b[0;36m5\u001b[0m\u001b[0;34m,\u001b[0m \u001b[0mrandom_state\u001b[0m\u001b[0;34m=\u001b[0m\u001b[0;36m5\u001b[0m\u001b[0;34m)\u001b[0m\u001b[0;34m\u001b[0m\u001b[0;34m\u001b[0m\u001b[0m\n\u001b[1;32m      2\u001b[0m \u001b[0;34m\u001b[0m\u001b[0m\n\u001b[0;32m----> 3\u001b[0;31m \u001b[0moptimizer\u001b[0m\u001b[0;34m.\u001b[0m\u001b[0mmaximize\u001b[0m\u001b[0;34m(\u001b[0m\u001b[0minit_points\u001b[0m\u001b[0;34m=\u001b[0m\u001b[0;36m10\u001b[0m\u001b[0;34m,\u001b[0m\u001b[0mn_iter\u001b[0m\u001b[0;34m=\u001b[0m\u001b[0;36m2\u001b[0m\u001b[0;34m)\u001b[0m\u001b[0;34m\u001b[0m\u001b[0;34m\u001b[0m\u001b[0m\n\u001b[0m\u001b[1;32m      4\u001b[0m \u001b[0;34m\u001b[0m\u001b[0m\n\u001b[1;32m      5\u001b[0m \u001b[0;32mimport\u001b[0m \u001b[0mjson\u001b[0m\u001b[0;34m\u001b[0m\u001b[0;34m\u001b[0m\u001b[0m\n",
      "\u001b[0;32m~/opt/anaconda3/envs/maurizio2/lib/python3.8/site-packages/bayes_opt/bayesian_optimization.py\u001b[0m in \u001b[0;36mmaximize\u001b[0;34m(self, init_points, n_iter, acq, kappa, xi, **gp_params)\u001b[0m\n\u001b[1;32m    172\u001b[0m                 \u001b[0miteration\u001b[0m \u001b[0;34m+=\u001b[0m \u001b[0;36m1\u001b[0m\u001b[0;34m\u001b[0m\u001b[0;34m\u001b[0m\u001b[0m\n\u001b[1;32m    173\u001b[0m \u001b[0;34m\u001b[0m\u001b[0m\n\u001b[0;32m--> 174\u001b[0;31m             \u001b[0mself\u001b[0m\u001b[0;34m.\u001b[0m\u001b[0mprobe\u001b[0m\u001b[0;34m(\u001b[0m\u001b[0mx_probe\u001b[0m\u001b[0;34m,\u001b[0m \u001b[0mlazy\u001b[0m\u001b[0;34m=\u001b[0m\u001b[0;32mFalse\u001b[0m\u001b[0;34m)\u001b[0m\u001b[0;34m\u001b[0m\u001b[0;34m\u001b[0m\u001b[0m\n\u001b[0m\u001b[1;32m    175\u001b[0m \u001b[0;34m\u001b[0m\u001b[0m\n\u001b[1;32m    176\u001b[0m         \u001b[0mself\u001b[0m\u001b[0;34m.\u001b[0m\u001b[0mdispatch\u001b[0m\u001b[0;34m(\u001b[0m\u001b[0mEvents\u001b[0m\u001b[0;34m.\u001b[0m\u001b[0mOPTIMIZATION_END\u001b[0m\u001b[0;34m)\u001b[0m\u001b[0;34m\u001b[0m\u001b[0;34m\u001b[0m\u001b[0m\n",
      "\u001b[0;32m~/opt/anaconda3/envs/maurizio2/lib/python3.8/site-packages/bayes_opt/bayesian_optimization.py\u001b[0m in \u001b[0;36mprobe\u001b[0;34m(self, params, lazy)\u001b[0m\n\u001b[1;32m    110\u001b[0m             \u001b[0mself\u001b[0m\u001b[0;34m.\u001b[0m\u001b[0m_queue\u001b[0m\u001b[0;34m.\u001b[0m\u001b[0madd\u001b[0m\u001b[0;34m(\u001b[0m\u001b[0mparams\u001b[0m\u001b[0;34m)\u001b[0m\u001b[0;34m\u001b[0m\u001b[0;34m\u001b[0m\u001b[0m\n\u001b[1;32m    111\u001b[0m         \u001b[0;32melse\u001b[0m\u001b[0;34m:\u001b[0m\u001b[0;34m\u001b[0m\u001b[0;34m\u001b[0m\u001b[0m\n\u001b[0;32m--> 112\u001b[0;31m             \u001b[0mself\u001b[0m\u001b[0;34m.\u001b[0m\u001b[0m_space\u001b[0m\u001b[0;34m.\u001b[0m\u001b[0mprobe\u001b[0m\u001b[0;34m(\u001b[0m\u001b[0mparams\u001b[0m\u001b[0;34m)\u001b[0m\u001b[0;34m\u001b[0m\u001b[0;34m\u001b[0m\u001b[0m\n\u001b[0m\u001b[1;32m    113\u001b[0m             \u001b[0mself\u001b[0m\u001b[0;34m.\u001b[0m\u001b[0mdispatch\u001b[0m\u001b[0;34m(\u001b[0m\u001b[0mEvents\u001b[0m\u001b[0;34m.\u001b[0m\u001b[0mOPTIMIZATION_STEP\u001b[0m\u001b[0;34m)\u001b[0m\u001b[0;34m\u001b[0m\u001b[0;34m\u001b[0m\u001b[0m\n\u001b[1;32m    114\u001b[0m \u001b[0;34m\u001b[0m\u001b[0m\n",
      "\u001b[0;32m~/opt/anaconda3/envs/maurizio2/lib/python3.8/site-packages/bayes_opt/target_space.py\u001b[0m in \u001b[0;36mprobe\u001b[0;34m(self, params)\u001b[0m\n\u001b[1;32m    192\u001b[0m         \u001b[0;32mexcept\u001b[0m \u001b[0mKeyError\u001b[0m\u001b[0;34m:\u001b[0m\u001b[0;34m\u001b[0m\u001b[0;34m\u001b[0m\u001b[0m\n\u001b[1;32m    193\u001b[0m             \u001b[0mparams\u001b[0m \u001b[0;34m=\u001b[0m \u001b[0mdict\u001b[0m\u001b[0;34m(\u001b[0m\u001b[0mzip\u001b[0m\u001b[0;34m(\u001b[0m\u001b[0mself\u001b[0m\u001b[0;34m.\u001b[0m\u001b[0m_keys\u001b[0m\u001b[0;34m,\u001b[0m \u001b[0mx\u001b[0m\u001b[0;34m)\u001b[0m\u001b[0;34m)\u001b[0m\u001b[0;34m\u001b[0m\u001b[0;34m\u001b[0m\u001b[0m\n\u001b[0;32m--> 194\u001b[0;31m             \u001b[0mtarget\u001b[0m \u001b[0;34m=\u001b[0m \u001b[0mself\u001b[0m\u001b[0;34m.\u001b[0m\u001b[0mtarget_func\u001b[0m\u001b[0;34m(\u001b[0m\u001b[0;34m**\u001b[0m\u001b[0mparams\u001b[0m\u001b[0;34m)\u001b[0m\u001b[0;34m\u001b[0m\u001b[0;34m\u001b[0m\u001b[0m\n\u001b[0m\u001b[1;32m    195\u001b[0m             \u001b[0mself\u001b[0m\u001b[0;34m.\u001b[0m\u001b[0mregister\u001b[0m\u001b[0;34m(\u001b[0m\u001b[0mx\u001b[0m\u001b[0;34m,\u001b[0m \u001b[0mtarget\u001b[0m\u001b[0;34m)\u001b[0m\u001b[0;34m\u001b[0m\u001b[0;34m\u001b[0m\u001b[0m\n\u001b[1;32m    196\u001b[0m         \u001b[0;32mreturn\u001b[0m \u001b[0mtarget\u001b[0m\u001b[0;34m\u001b[0m\u001b[0;34m\u001b[0m\u001b[0m\n",
      "\u001b[0;32m/var/folders/91/_w53dk7914x081k123svf92w0000gn/T/ipykernel_8421/221501262.py\u001b[0m in \u001b[0;36mBO_func\u001b[0;34m(alpha, l1_ratio, topK)\u001b[0m\n\u001b[1;32m     14\u001b[0m \u001b[0;34m\u001b[0m\u001b[0m\n\u001b[1;32m     15\u001b[0m         recommenders[index].fit(\n\u001b[0;32m---> 16\u001b[0;31m             \u001b[0malpha\u001b[0m\u001b[0;34m=\u001b[0m\u001b[0malp\u001b[0m\u001b[0;34m,\u001b[0m\u001b[0;34m\u001b[0m\u001b[0;34m\u001b[0m\u001b[0m\n\u001b[0m\u001b[1;32m     17\u001b[0m             \u001b[0ml1_ratio\u001b[0m\u001b[0;34m=\u001b[0m\u001b[0ml1_ratio\u001b[0m\u001b[0;34m,\u001b[0m\u001b[0;34m\u001b[0m\u001b[0;34m\u001b[0m\u001b[0m\n\u001b[1;32m     18\u001b[0m             \u001b[0mtopK\u001b[0m\u001b[0;34m=\u001b[0m\u001b[0mint\u001b[0m\u001b[0;34m(\u001b[0m\u001b[0mtopK\u001b[0m\u001b[0;34m)\u001b[0m\u001b[0;34m,\u001b[0m\u001b[0;34m\u001b[0m\u001b[0;34m\u001b[0m\u001b[0m\n",
      "\u001b[0;31mNameError\u001b[0m: name 'alp' is not defined"
     ]
    }
   ],
   "source": [
    "optimizer = BayesianOptimization(f=BO_func, pbounds=tuning_params, verbose=5, random_state=5)\n",
    "\n",
    "optimizer.maximize(init_points=10,n_iter=2)\n",
    "\n",
    "import json\n",
    "\n",
    "recommenders.append(\n",
    "    MultiThreadSLIM_SLIMElasticNetRecommender(\n",
    "        URM_train=ICMs_combined[0].T,\n",
    "        verbose=True\n",
    "    )\n",
    ")\n",
    "\n",
    "recommenders[0].fit()\n",
    "\n",
    "with open(\"logs/FeatureCombined\" + recommenders[0].RECOMMENDER_NAME + \"_logs.json\", 'w') as json_file:\n",
    "    json.dump(optimizer.max, json_file)\n"
   ]
  },
  {
   "cell_type": "code",
   "execution_count": null,
   "id": "b05ca5c9",
   "metadata": {},
   "outputs": [],
   "source": []
  },
  {
   "cell_type": "code",
   "execution_count": null,
   "id": "16ddf087",
   "metadata": {},
   "outputs": [],
   "source": []
  },
  {
   "cell_type": "code",
   "execution_count": null,
   "id": "57aa7fcd",
   "metadata": {},
   "outputs": [],
   "source": []
  },
  {
   "cell_type": "code",
   "execution_count": null,
   "id": "b5e13931",
   "metadata": {},
   "outputs": [],
   "source": []
  }
 ],
 "metadata": {
  "kernelspec": {
   "display_name": "Python 3 (ipykernel)",
   "language": "python",
   "name": "python3"
  },
  "language_info": {
   "codemirror_mode": {
    "name": "ipython",
    "version": 3
   },
   "file_extension": ".py",
   "mimetype": "text/x-python",
   "name": "python",
   "nbconvert_exporter": "python",
   "pygments_lexer": "ipython3",
   "version": "3.8.12"
  }
 },
 "nbformat": 4,
 "nbformat_minor": 5
}
